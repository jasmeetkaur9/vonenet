{
 "cells": [
  {
   "cell_type": "code",
   "execution_count": 28,
   "source": [
    "import vonenet\n",
    "import torchvision\n",
    "import torch\n",
    "import deeplake\n",
    "import numpy as np\n",
    "import matplotlib.pyplot as plt\n"
   ],
   "outputs": [],
   "metadata": {}
  },
  {
   "cell_type": "code",
   "execution_count": 29,
   "source": [
    "v1_model = vonenet.get_model(model_arch=None, pretrained=False, noise_mode=None).module\n",
    "# v1_model = vonenet.get_model(model_arch=None, pretrained=False, noise_mode=None, image_size=32, visual_degrees=3, sf_max=5, stride=1, ksize=15).module\n",
    "#v1_model = vonenet.get_model (model_arch='resnet50', pretrained=False).module\n",
    "\n",
    "print(v1_model)\n",
    "\n",
    "data_path = '/u/jkaur/vonenet/tiny-2/val'\n",
    "\n",
    "bsize = 16\n",
    "crop = 256 # 48  256\n",
    "px = 224 # 32  224\n",
    "\n",
    "normalize = torchvision.transforms.Normalize(mean=[0.5, 0.5, 0.5],\n",
    "                                             std=[0.5, 0.5, 0.5])\n",
    "# dataset = torchvision.datasets.ImageFolder(data_path,\n",
    "#     torchvision.transforms.Compose([\n",
    "#         torchvision.transforms.Resize(crop),\n",
    "#         torchvision.transforms.CenterCrop(px),\n",
    "#         torchvision.transforms.ToTensor(),\n",
    "#         normalize,\n",
    "#     ]))\n",
    "\n",
    "dataset = torchvision.datasets.ImageFolder(data_path,\n",
    "    torchvision.transforms.Compose([\n",
    "        torchvision.transforms.ToTensor(),\n",
    "        normalize,\n",
    "    ]))\n",
    "\n",
    "data_loader = torch.utils.data.DataLoader(dataset, batch_size=bsize, shuffle=True, num_workers=6, pin_memory=True)\n",
    "\n",
    "dataloader_iterator = iter(data_loader)\n",
    "X, _ = next(dataloader_iterator)\n",
    "print(X.shape)\n",
    "\n",
    "activations = v1_model(X)\n",
    "print(activations.shape)\n",
    "im_ind = 15\n",
    "input_im = np.moveaxis(X[im_ind].numpy(), 0, -1)\n",
    "fig, ax = plt.subplots(nrows=1, ncols=1)\n",
    "fig.set_size_inches(7, 7)\n",
    "im_h = ax.imshow(input_im)\n",
    "im_h.set_clim([0, 1])\n",
    "ax.set_axis_off()\n",
    "plt.show()\n",
    "\n",
    "im_ind = 15\n",
    "input_im = input_im / 2 + 0.5\n",
    "fig, ax = plt.subplots(nrows=1, ncols=1)\n",
    "fig.set_size_inches(7, 7)\n",
    "im_h = ax.imshow(input_im)\n",
    "im_h.set_clim([0, 1])\n",
    "ax.set_axis_off()\n",
    "plt.show()\n",
    "\n",
    "np.argsort(np.std(activations[im_ind].detach().numpy()))\n",
    "\n"
   ],
   "outputs": [
    {
     "output_type": "stream",
     "name": "stdout",
     "text": [
      "Neuronal distributions gabor parameters\n",
      "***check*****\n",
      "[0 1]\n",
      "***check*****\n",
      "[0. 1.]\n",
      "***check*****\n",
      "[0. 1.]\n",
      "***check*****\n",
      "[0. 1.]\n",
      "***check*****\n",
      "[0. 1.]\n",
      "Model:  VOneNet\n",
      "VOneBlock(\n",
      "  (simple_conv_q00): GFB()\n",
      "  (simple_conv_q01): GFB()\n",
      "  (simple_conv_q10): GFB()\n",
      "  (simple_conv_q11): GFB()\n",
      "  (simple_conv_q20): GFB()\n",
      "  (simple_conv_q21): GFB()\n",
      "  (simple_conv_q30): GFB()\n",
      "  (simple_conv_q31): GFB()\n",
      "  (simple): ReLU(inplace=True)\n",
      "  (complex): Identity()\n",
      "  (gabors): Identity()\n",
      "  (noise): ReLU(inplace=True)\n",
      "  (output): Identity()\n",
      ")\n"
     ]
    },
    {
     "output_type": "stream",
     "name": "stderr",
     "text": [
      "Clipping input data to the valid range for imshow with RGB data ([0..1] for floats or [0..255] for integers).\n"
     ]
    },
    {
     "output_type": "stream",
     "name": "stdout",
     "text": [
      "torch.Size([16, 3, 64, 64])\n",
      "*************************************************************\n",
      "<built-in method type of Tensor object at 0x7f1b170e42c8>\n",
      "torch.Size([16, 64, 16, 32])\n"
     ]
    },
    {
     "output_type": "display_data",
     "data": {
      "image/png": "[encoded data removed]",
      "text/plain": [
       "<Figure size 504x504 with 1 Axes>"
      ]
     },
     "metadata": {
      "needs_background": "light"
     }
    },
    {
     "output_type": "display_data",
     "data": {
      "image/png": "[encoded data removed]",
      "text/plain": [
       "<Figure size 504x504 with 1 Axes>"
      ]
     },
     "metadata": {
      "needs_background": "light"
     }
    },
    {
     "output_type": "execute_result",
     "data": {
      "text/plain": [
       "array([0])"
      ]
     },
     "metadata": {},
     "execution_count": 29
    }
   ],
   "metadata": {}
  },
  {
   "cell_type": "code",
   "execution_count": 35,
   "source": [
    "\n",
    "v1_ind= range(0,4)\n",
    "print(v1_model)\n",
    "fig, ax = plt.subplots(nrows=1, ncols=len(v1_ind))\n",
    "fig.set_size_inches(15,5)\n",
    "max_activations = np.amax(activations[im_ind].numpy())/np.sqrt(2)\n",
    "for v1_i, v1_ind_ in enumerate(v1_ind):\n",
    "    print(v1_i,v1_ind_)\n",
    "    v1_im = activations[im_ind,v1_ind_].numpy()\n",
    "    v1_im = v1_im / max_activations\n",
    "    im_h=ax[v1_i].imshow(v1_im, cmap='gray')\n",
    "    im_h.set_clim([0, 1])\n",
    "    #ax[v1_i].set_axis_off()\n",
    "#plt.show()\n",
    "\n",
    "\n",
    "# num_channels=64\n",
    "# max_columns = 16\n",
    "\n",
    "# fig, ax = plt.subplots(nrows=num_channels//max_columns, ncols=max_columns)\n",
    "\n",
    "# fig.set_size_inches(15,15)\n",
    "# for i in range(num_channels):\n",
    "#     v1_k = v1_model.simple_conv_q11.weight[i,:,:,:].numpy().mean(axis=0)\n",
    "#     v1_k = v1_k / np.amax(np.abs(v1_k))/2+0.5\n",
    "#     im_h=ax[i//max_columns, np.mod(i,max_columns)].imshow(v1_k, cmap='gray')\n",
    "# #     ax[i//num_channels, np.mod(i,num_channels)].set_xlim([0, 223])\n",
    "#     im_h.set_clim([0, 1])\n",
    "#     ax[i//max_columns, np.mod(i,max_columns)].set_axis_off()\n",
    "# plt.show()\n",
    "\n",
    "# for i in range(num_channels):\n",
    "#     v1_k = v1_model.simple_conv_q11.weight[i,:,:,:].numpy().mean(axis=0)\n",
    "#     v1_k = v1_k / np.amax(np.abs(v1_k))/2+0.5\n",
    "#     im_h=ax[i//max_columns, np.mod(i,max_columns)].imshow(v1_k, cmap='gray')\n",
    "# #     ax[i//num_channels, np.mod(i,num_channels)].set_xlim([0, 223])\n",
    "#     im_h.set_clim([0, 1])\n",
    "#     ax[i//max_columns, np.mod(i,max_columns)].set_axis_off()\n",
    "# plt.show()\n",
    "\n",
    "# for i in range(num_channels):\n",
    "#     v1_k = v1_model.simple_conv_q21.weight[i,:,:,:].numpy().mean(axis=0)\n",
    "#     v1_k = v1_k / np.amax(np.abs(v1_k))/2+0.5\n",
    "#     im_h=ax[i//max_columns, np.mod(i,max_columns)].imshow(v1_k, cmap='gray')\n",
    "# #     ax[i//num_channels, np.mod(i,num_channels)].set_xlim([0, 223])\n",
    "#     im_h.set_clim([0, 1])\n",
    "#     ax[i//max_columns, np.mod(i,max_columns)].set_axis_off()\n",
    "# plt.show()\n",
    "\n",
    "\n",
    "# visual_degrees = 8\n",
    "# image_size = 224\n",
    "\n",
    "# nyquist_f = 1/(visual_degrees/image_size)/2 / np.sqrt(2)\n",
    "\n",
    "# print(nyquist_f)"
   ],
   "outputs": [
    {
     "output_type": "stream",
     "name": "stdout",
     "text": [
      "VOneBlock(\n",
      "  (simple_conv_q00): GFB()\n",
      "  (simple_conv_q01): GFB()\n",
      "  (simple_conv_q10): GFB()\n",
      "  (simple_conv_q11): GFB()\n",
      "  (simple_conv_q20): GFB()\n",
      "  (simple_conv_q21): GFB()\n",
      "  (simple_conv_q30): GFB()\n",
      "  (simple_conv_q31): GFB()\n",
      "  (simple): ReLU(inplace=True)\n",
      "  (complex): Identity()\n",
      "  (gabors): Identity()\n",
      "  (noise): ReLU(inplace=True)\n",
      "  (output): Identity()\n",
      ")\n",
      "0 0\n",
      "1 1\n",
      "2 2\n",
      "3 3\n"
     ]
    },
    {
     "output_type": "display_data",
     "data": {
      "image/png": "[encoded data removed]",
      "text/plain": [
       "<Figure size 1080x360 with 4 Axes>"
      ]
     },
     "metadata": {
      "needs_background": "light"
     }
    }
   ],
   "metadata": {}
  },
  {
   "cell_type": "code",
   "execution_count": null,
   "source": [],
   "outputs": [],
   "metadata": {}
  }
 ],
 "metadata": {
  "kernelspec": {
   "display_name": "vonenet",
   "language": "python",
   "name": "vonenet"
  },
  "language_info": {
   "name": "python",
   "version": "3.7.2",
   "mimetype": "text/x-python",
   "codemirror_mode": {
    "name": "ipython",
    "version": 3
   },
   "pygments_lexer": "ipython3",
   "nbconvert_exporter": "python",
   "file_extension": ".py"
  }
 },
 "nbformat": 4,
 "nbformat_minor": 2
}